{
 "cells": [
  {
   "cell_type": "code",
   "execution_count": 4,
   "metadata": {
    "metadata": {}
   },
   "outputs": [],
   "source": [
    "import markovify\n",
    "\n",
    "# Get raw text as string.\n",
    "with open(\"bleu_reference.txt\") as f:\n",
    "    text = f.read()\n",
    "\n",
    "# Build the model.\n",
    "text_model = markovify.Text(text)\n",
    "\n",
    "# Print five randomly-generated sentences\n",
    "# for i in range(5):\n",
    "#     print(text_model.make_sentence())\n",
    "\n",
    "# Print three randomly-generated sentences of no more than 280 characters\n",
    "# for i in range(3):\n",
    "#     print(text_model.make_short_sentence(50))"
   ]
  },
  {
   "cell_type": "code",
   "execution_count": 5,
   "metadata": {
    "metadata": {}
   },
   "outputs": [
    {
     "name": "stdout",
     "output_type": "stream",
     "text": [
      "\n",
      "Once the fierce Kabibonokka.\n",
      "But the fierce Kabibonokka.\n",
      "The Song of Hiawatha!\n",
      "On the air seemed full of blossoms.\n"
     ]
    }
   ],
   "source": [
    "poezie = \"\"\n",
    "for i in range(7):\n",
    "    vers = text_model.make_short_sentence(44)\n",
    "    if vers:  # Verificăm dacă vers nu este None\n",
    "        poezie += \"\\n\" + vers\n",
    "\n",
    "print(poezie)\n"
   ]
  },
  {
   "cell_type": "code",
   "execution_count": 6,
   "metadata": {},
   "outputs": [
    {
     "name": "stdout",
     "output_type": "stream",
     "text": [
      "{'neg': 0.0, 'neu': 1.0, 'pos': 0.0, 'compound': 0.0}\n"
     ]
    }
   ],
   "source": [
    "from nltk.sentiment import SentimentIntensityAnalyzer\n",
    "\n",
    "sia = SentimentIntensityAnalyzer()\n",
    "\n",
    "sentiment_score = sia.polarity_scores(poezie)\n",
    "\n",
    "\n",
    "print(sentiment_score)\n"
   ]
  },
  {
   "cell_type": "code",
   "execution_count": 8,
   "metadata": {},
   "outputs": [
    {
     "ename": "AssertionError",
     "evalue": "The number of hypotheses and their reference(s) should be the same ",
     "output_type": "error",
     "traceback": [
      "\u001b[0;31m---------------------------------------------------------------------------\u001b[0m",
      "\u001b[0;31mAssertionError\u001b[0m                            Traceback (most recent call last)",
      "Cell \u001b[0;32mIn[8], line 12\u001b[0m\n\u001b[1;32m     10\u001b[0m reference \u001b[38;5;241m=\u001b[39m listing(text)    \n\u001b[1;32m     11\u001b[0m candidate \u001b[38;5;241m=\u001b[39m listing(poezie)\n\u001b[0;32m---> 12\u001b[0m score \u001b[38;5;241m=\u001b[39m \u001b[43mcorpus_bleu\u001b[49m\u001b[43m(\u001b[49m\u001b[43mreference\u001b[49m\u001b[43m,\u001b[49m\u001b[43m \u001b[49m\u001b[43mcandidate\u001b[49m\u001b[43m)\u001b[49m\n\u001b[1;32m     13\u001b[0m \u001b[38;5;28mprint\u001b[39m(score)\n",
      "File \u001b[0;32m~/.python/current/lib/python3.10/site-packages/nltk/translate/bleu_score.py:195\u001b[0m, in \u001b[0;36mcorpus_bleu\u001b[0;34m(list_of_references, hypotheses, weights, smoothing_function, auto_reweigh)\u001b[0m\n\u001b[1;32m    192\u001b[0m p_denominators \u001b[38;5;241m=\u001b[39m Counter()  \u001b[38;5;66;03m# Key = ngram order, and value = no. of ngram in ref.\u001b[39;00m\n\u001b[1;32m    193\u001b[0m hyp_lengths, ref_lengths \u001b[38;5;241m=\u001b[39m \u001b[38;5;241m0\u001b[39m, \u001b[38;5;241m0\u001b[39m\n\u001b[0;32m--> 195\u001b[0m \u001b[38;5;28;01massert\u001b[39;00m \u001b[38;5;28mlen\u001b[39m(list_of_references) \u001b[38;5;241m==\u001b[39m \u001b[38;5;28mlen\u001b[39m(hypotheses), (\n\u001b[1;32m    196\u001b[0m     \u001b[38;5;124m\"\u001b[39m\u001b[38;5;124mThe number of hypotheses and their reference(s) should be the \u001b[39m\u001b[38;5;124m\"\u001b[39m \u001b[38;5;124m\"\u001b[39m\u001b[38;5;124msame \u001b[39m\u001b[38;5;124m\"\u001b[39m\n\u001b[1;32m    197\u001b[0m )\n\u001b[1;32m    199\u001b[0m \u001b[38;5;28;01mtry\u001b[39;00m:\n\u001b[1;32m    200\u001b[0m     weights[\u001b[38;5;241m0\u001b[39m][\u001b[38;5;241m0\u001b[39m]\n",
      "\u001b[0;31mAssertionError\u001b[0m: The number of hypotheses and their reference(s) should be the same "
     ]
    }
   ],
   "source": [
    "\n",
    "from nltk.translate.bleu_score import corpus_bleu\n",
    "import re\n",
    "def listing(text):\n",
    "    text = text.replace('\\n', '').replace('\\t', '')\n",
    "    return text.split()\n",
    "\n",
    "with open('corpus.txt') as file:\n",
    "    text = file.read()\n",
    "\n",
    "reference = listing(text)    \n",
    "candidate = listing(poezie)\n",
    "score = corpus_bleu(reference, candidate)\n",
    "print(score)"
   ]
  },
  {
   "cell_type": "code",
   "execution_count": 12,
   "metadata": {},
   "outputs": [
    {
     "name": "stdout",
     "output_type": "stream",
     "text": [
      "Scorul BLEU este: 2.4306281886355715e-155\n"
     ]
    }
   ],
   "source": [
    "import random\n",
    "from nltk.translate.bleu_score import sentence_bleu\n",
    "\n",
    "# Funcție pentru a citi un fișier și a returna conținutul acestuia ca o listă de linii\n",
    "def read_large_corpus(file_path):\n",
    "    with open(file_path, 'r', encoding='utf-8') as file:\n",
    "        lines = file.readlines()\n",
    "    return lines\n",
    "\n",
    "# Funcție pentru a selecta aleatoriu un număr de segmente din corpus\n",
    "def select_random_segments(corpus_lines, num_segments, segment_length):\n",
    "    segments = []\n",
    "    total_lines = len(corpus_lines)\n",
    "    for _ in range(num_segments):\n",
    "        start_index = random.randint(0, total_lines - segment_length)\n",
    "        segment = corpus_lines[start_index:start_index + segment_length]\n",
    "        segments.append(' '.join(segment).split())\n",
    "    return segments\n",
    "\n",
    "# Citirea corpusului mare\n",
    "corpus_file_path = 'bleu_reference.txt'\n",
    "corpus_lines = read_large_corpus(corpus_file_path)\n",
    "\n",
    "# Selectarea segmentelor de referință\n",
    "num_segments = 5  # Numărul de segmente de referință pe care dorești să le folosești\n",
    "segment_length = 7  # Lungimea fiecărui segment în linii\n",
    "reference_texts = select_random_segments(corpus_lines, num_segments, segment_length)\n",
    "\n",
    "# Textul candidat (poezia generată)\n",
    "candidate_text = poezie.split()\n",
    "\n",
    "# Calculul scorului BLEU\n",
    "score = sentence_bleu(reference_texts, candidate_text)\n",
    "\n",
    "print(f'Scorul BLEU este: {score}')\n"
   ]
  },
  {
   "cell_type": "code",
   "execution_count": null,
   "metadata": {
    "metadata": {}
   },
   "outputs": [],
   "source": [
    "import pandas as pd\n",
    "\n",
    "# # Read the Parquet file\n",
    "# df = pd.read_parquet('/workspaces/lab02-AI/lab8/train-00000-of-00001-fa9fb9e1f16eed7e.parquet')\n",
    "\n",
    "# # Export to CSV (easy)\n",
    "# df.to_csv('out.csv', index=False)\n",
    "\n",
    "# Export to text file with tab separators\n",
    "df.to_csv('out.txt', index=False, sep='\\t')\n"
   ]
  },
  {
   "cell_type": "code",
   "execution_count": null,
   "metadata": {
    "metadata": {}
   },
   "outputs": [
    {
     "name": "stderr",
     "output_type": "stream",
     "text": [
      "24/05/16 16:53:34 WARN Utils: Your hostname, codespaces-26efea resolves to a loopback address: 127.0.0.1; using 172.16.5.4 instead (on interface eth0)\n",
      "24/05/16 16:53:34 WARN Utils: Set SPARK_LOCAL_IP if you need to bind to another address\n",
      "Setting default log level to \"WARN\".\n",
      "To adjust logging level use sc.setLogLevel(newLevel). For SparkR, use setLogLevel(newLevel).\n",
      "24/05/16 16:53:36 WARN NativeCodeLoader: Unable to load native-hadoop library for your platform... using builtin-java classes where applicable\n",
      "                                                                                \r"
     ]
    }
   ],
   "source": [
    "from pyspark.sql import SparkSession\n",
    "\n",
    "spark = SparkSession.builder.appName(\"ParquetToText\").getOrCreate()\n",
    "\n",
    "# Read the Parquet file\n",
    "df = spark.read.parquet('/workspaces/lab02-AI/lab8/train-00000-of-00001-fa9fb9e1f16eed7e.parquet')\n",
    "\n",
    "# Write to a tab-delimited text file\n",
    "df.write.csv('output.txt', sep='\\t', header=True)\n",
    "\n",
    "spark.stop()\n"
   ]
  },
  {
   "cell_type": "code",
   "execution_count": null,
   "metadata": {
    "metadata": {}
   },
   "outputs": [],
   "source": [
    "import re\n",
    "\n",
    "def eliminate_digits(input_file, output_file):\n",
    "    with open(input_file, 'r') as file:\n",
    "        text = file.read()\n",
    "\n",
    "    # Eliminarea cifrelor folosind expresii regulate\n",
    "    text_without_digits = re.sub(r'\\d+', '', text)\n",
    "\n",
    "    with open(output_file, 'w') as file:\n",
    "        file.write(text_without_digits)\n",
    "\n",
    "# Exemplu de utilizare\n",
    "input_file = 'corpus.txt'\n",
    "output_file = 'corpus.txt'\n",
    "eliminate_digits(input_file, output_file)\n"
   ]
  }
 ],
 "metadata": {
  "kernelspec": {
   "display_name": "Python 3",
   "language": "python",
   "name": "python3"
  },
  "language_info": {
   "codemirror_mode": {
    "name": "ipython",
    "version": 3
   },
   "file_extension": ".py",
   "mimetype": "text/x-python",
   "name": "python",
   "nbconvert_exporter": "python",
   "pygments_lexer": "ipython3",
   "version": "3.10.13"
  }
 },
 "nbformat": 4,
 "nbformat_minor": 2
}
